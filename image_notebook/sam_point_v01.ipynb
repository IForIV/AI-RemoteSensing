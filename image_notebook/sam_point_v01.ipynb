{
  "cells": [
    {
      "attachments": {},
      "cell_type": "markdown",
      "metadata": {},
      "source": [
        "Part of this code utilizes the `segment-geospatial` package, which is a Python package designed for segmenting geospatial data using the Segment Anything Model (SAM). This package was created by Professor Dr. Qiusheng Wu.\n",
        "\n",
        "The `segment-geospatial` package has been adapted from the `segment-anything-eo` repository, originally authored by Aliaksandr Hancharenka. The main goal of the `segment-geospatial` package is to simplify the process of applying SAM to geospatial data analysis, making it more accessible and requiring minimal coding effort.\n",
        "\n",
        "To use this package, it's available for download and installation via PyPI and conda-forge.\n",
        "\n",
        "For more information, details, and examples on how to use this package, you can visit Professor Wu's GitHub page at [https://github.com/opengeos/segment-geospatial](https://github.com/opengeos/segment-geospatial)."
      ]
    },
    {
      "attachments": {},
      "cell_type": "markdown",
      "metadata": {
        "colab_type": "text",
        "id": "view-in-github"
      },
      "source": [
        "<a href=\"https://colab.research.google.com/github/LucasOsco/AI-RemoteSensing/blob/main/SegmentGeospatial_Point_vShared.ipynb\" target=\"_parent\"><img src=\"https://colab.research.google.com/assets/colab-badge.svg\" alt=\"Open In Colab\"/></a>"
      ]
    },
    {
      "attachments": {},
      "cell_type": "markdown",
      "metadata": {
        "id": "6uQIOOl20FH8"
      },
      "source": [
        "***Connect to your Google Drive***"
      ]
    },
    {
      "cell_type": "code",
      "execution_count": null,
      "metadata": {
        "id": "MbHUmflOfe5S"
      },
      "outputs": [],
      "source": [
        "from google.colab import drive \n",
        "drive.mount('/content/gdrive')"
      ]
    },
    {
      "attachments": {},
      "cell_type": "markdown",
      "metadata": {
        "id": "tXASzeNX0Hld"
      },
      "source": [
        "***Install both dependencies***"
      ]
    },
    {
      "cell_type": "code",
      "execution_count": null,
      "metadata": {
        "id": "tWw9h8o_fe1e"
      },
      "outputs": [],
      "source": [
        "pip install segment-geospatial leafmap localtileserver"
      ]
    },
    {
      "cell_type": "code",
      "execution_count": null,
      "metadata": {
        "id": "3BzvVRdzEUhf"
      },
      "outputs": [],
      "source": [
        "pip install pycrs"
      ]
    },
    {
      "attachments": {},
      "cell_type": "markdown",
      "metadata": {
        "id": "FgiqXYnh0KKV"
      },
      "source": [
        "***Import libraries***"
      ]
    },
    {
      "cell_type": "code",
      "execution_count": null,
      "metadata": {
        "id": "n6q5cVRLm7WB"
      },
      "outputs": [],
      "source": [
        "import os\n",
        "import zipfile\n",
        "import leafmap\n",
        "import geopandas as gpd\n",
        "import rasterio\n",
        "import glob\n",
        "from rasterio.merge import merge\n",
        "from samgeo import SamGeo, tms_to_geotiff\n",
        "from segment_anything import sam_model_registry"
      ]
    },
    {
      "attachments": {},
      "cell_type": "markdown",
      "metadata": {
        "id": "4VobYtAx0qTj"
      },
      "source": [
        "***Load image and shapefile from Drive***"
      ]
    },
    {
      "cell_type": "code",
      "execution_count": null,
      "metadata": {
        "id": "XDNRI4NS0MPu"
      },
      "outputs": [],
      "source": [
        "# Read the image\n",
        "image = 'gdrive/My Drive/Colab Notebooks/Image/roi_image.tif' # Switch to your directory instead\n",
        "\n",
        "# Read the shapefile\n",
        "shapefile = 'gdrive/My Drive/Colab Notebooks/Shape/roi_point.shp' # Switch to your directory instead\n",
        "gdf = gpd.read_file(shapefile)\n",
        "\n",
        "# Convert the GeoDataFrame to a list of [x, y] pairs\n",
        "point_coords = [[point.x, point.y] for point in gdf.geometry]"
      ]
    },
    {
      "attachments": {},
      "cell_type": "markdown",
      "metadata": {
        "id": "l3qWlXuD1DXq"
      },
      "source": [
        "***Specify the file path to the model checkpoint***"
      ]
    },
    {
      "cell_type": "code",
      "execution_count": null,
      "metadata": {
        "id": "CsPONSxF0TVI"
      },
      "outputs": [],
      "source": [
        "# Load the model from Drive\n",
        "out_dir = os.path.join('gdrive/My Drive/Colab Notebooks/Model/') # Switch to your directory instead\n",
        "checkpoint = os.path.join(out_dir, 'sam_vit_h_4b8939.pth')"
      ]
    },
    {
      "attachments": {},
      "cell_type": "markdown",
      "metadata": {
        "id": "AaDyQkXz0qHw"
      },
      "source": [
        "***Initialize SAM class***"
      ]
    },
    {
      "cell_type": "code",
      "execution_count": null,
      "metadata": {
        "id": "nsNteQGt0Vh2"
      },
      "outputs": [],
      "source": [
        "#Set automatic=False to disable the SamAutomaticMaskGenerator and enable the SamPredictor\n",
        "sam = SamGeo(\n",
        "    model_type=\"vit_h\",\n",
        "    checkpoint=checkpoint,\n",
        "    automatic=False,\n",
        "    sam_kwargs=None,\n",
        ")\n",
        "\n",
        "#Specify the image to segment\n",
        "sam.set_image(image)"
      ]
    },
    {
      "attachments": {},
      "cell_type": "markdown",
      "metadata": {
        "id": "W1I1PyRA1Nec"
      },
      "source": [
        "***Loop SAM through each point feature and store the individual masks into a .zip file and save it on Drive***"
      ]
    },
    {
      "cell_type": "code",
      "execution_count": null,
      "metadata": {
        "id": "eqZpuggT0wED"
      },
      "outputs": [],
      "source": [
        "# Prepare zip file to be saved\n",
        "zip_name = 'masks.zip'\n",
        "zipf = zipfile.ZipFile(zip_name, 'w', zipfile.ZIP_DEFLATED)\n",
        "\n",
        "# Loop through each point in point_coords\n",
        "for i, point in enumerate(point_coords):\n",
        "    # Predict and save to a unique file per point\n",
        "    output_file = f'mask_{i}.tif'\n",
        "    sam.predict([point], point_labels=1, point_crs=\"EPSG:4326\", output=output_file)\n",
        "    \n",
        "    # Add file to zip\n",
        "    zipf.write(output_file)\n",
        "\n",
        "# Close the zip file after all files are added\n",
        "zipf.close()"
      ]
    },
    {
      "attachments": {},
      "cell_type": "markdown",
      "metadata": {
        "id": "ExUpguOw1cAH"
      },
      "source": [
        "***Combine all the masks into a single mosaic and save it on Drive***"
      ]
    },
    {
      "cell_type": "code",
      "execution_count": null,
      "metadata": {
        "id": "KA-YaSYDquhr"
      },
      "outputs": [],
      "source": [
        "# Get a list of your mask files\n",
        "search_criteria = \"mask_*.tif\"\n",
        "q = os.path.join(search_criteria)\n",
        "dem_fps = glob.glob(q)\n",
        "\n",
        "# Read them into a list of rasterio dataset objects\n",
        "src_files_to_mosaic = []\n",
        "for fp in dem_fps:\n",
        "    src = rasterio.open(fp)\n",
        "    src_files_to_mosaic.append(src)\n",
        "\n",
        "# Merge them into a single file\n",
        "mosaic, out_trans = merge(src_files_to_mosaic)\n",
        "\n",
        "# Copy the metadata\n",
        "out_meta = src.meta.copy()\n",
        "\n",
        "# Update the metadata\n",
        "out_meta.update({\"driver\": \"GTiff\",\n",
        "                 \"height\": mosaic.shape[1],\n",
        "                 \"width\": mosaic.shape[2],\n",
        "                 \"transform\": out_trans,\n",
        "                 \"crs\": \"EPSG:4326\"\n",
        "                 }\n",
        "                )\n",
        "\n",
        "# Define the path to the Google Drive directory where you want to save the file.\n",
        "output_dir = '/content/gdrive/My Drive/Colab Notebooks/Output' # Switch to your directory instead\n",
        "\n",
        "# Make sure to join the output directory with the output filename.\n",
        "output_file = os.path.join(output_dir, 'mosaic.tif')\n",
        "\n",
        "# Write the mosaic raster to disk in your Google Drive.\n",
        "with rasterio.open(output_file, \"w\", **out_meta) as dest:\n",
        "    dest.write(mosaic)\n",
        "\n",
        "# Close the files\n",
        "for src in src_files_to_mosaic:\n",
        "    src.close()"
      ]
    },
    {
      "attachments": {},
      "cell_type": "markdown",
      "metadata": {
        "id": "RgAgBY5b1lsy"
      },
      "source": [
        "***Visualize the image segmentation with input points***"
      ]
    },
    {
      "cell_type": "code",
      "execution_count": null,
      "metadata": {
        "id": "HC0SfHbbg6c6"
      },
      "outputs": [],
      "source": [
        "# Display the results\n",
        "mosaic = 'gdrive/My Drive/Colab Notebooks/Output/mosaic.tif' # Switch to your directory instead\n",
        "style={'color': '#a37aa9',}\n",
        "\n",
        "m = leafmap.Map(center=[-22.17615, -51.253043], zoom=14)\n",
        "m.add_raster(mosaic, layer_name=\"Mask Mosaic\", nodata=0, cmap=\"Greens\", opacity=0.7)\n",
        "m.add_vector(shapefile, layer_name='Vector', style=style)\n",
        "m"
      ]
    }
  ],
  "metadata": {
    "accelerator": "GPU",
    "colab": {
      "authorship_tag": "ABX9TyP5fufuvXUvUAReoLfcQYTX",
      "gpuType": "T4",
      "include_colab_link": true,
      "provenance": []
    },
    "gpuClass": "standard",
    "kernelspec": {
      "display_name": "Python 3",
      "name": "python3"
    },
    "language_info": {
      "name": "python"
    }
  },
  "nbformat": 4,
  "nbformat_minor": 0
}
