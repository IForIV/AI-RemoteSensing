{
  "cells": [
    {
      "attachments": {},
      "cell_type": "markdown",
      "metadata": {
        "colab_type": "text",
        "id": "view-in-github"
      },
      "source": [
        "<a href=\"https://colab.research.google.com/github/LucasOsco/AI-RemoteSensing/blob/main/SegmentGeospatial_BoundingBox_vShared.ipynb\" target=\"_parent\"><img src=\"https://colab.research.google.com/assets/colab-badge.svg\" alt=\"Open In Colab\"/></a>"
      ]
    },
    {
      "attachments": {},
      "cell_type": "markdown",
      "metadata": {},
      "source": [
        "Part of this code utilizes the `segment-geospatial` package, which is a Python package designed for segmenting geospatial data using the Segment Anything Model (SAM). This package was created by Professor Dr. Qiusheng Wu.\n",
        "\n",
        "The `segment-geospatial` package has been adapted from the `segment-anything-eo` repository, originally authored by Aliaksandr Hancharenka. The main goal of the `segment-geospatial` package is to simplify the process of applying SAM to geospatial data analysis, making it more accessible and requiring minimal coding effort.\n",
        "\n",
        "To use this package, it's available for download and installation via PyPI and conda-forge.\n",
        "\n",
        "For more information, details, and examples on how to use this package, you can visit Professor Wu's GitHub page at [https://github.com/opengeos/segment-geospatial](https://github.com/opengeos/segment-geospatial)."
      ]
    },
    {
      "attachments": {},
      "cell_type": "markdown",
      "metadata": {
        "id": "Whdx1i7uNVZm"
      },
      "source": [
        "***Connect to your Google Drive***"
      ]
    },
    {
      "cell_type": "code",
      "execution_count": null,
      "metadata": {
        "id": "UKwqdtT0NUuW"
      },
      "outputs": [],
      "source": [
        "from google.colab import drive \n",
        "drive.mount('/content/gdrive')"
      ]
    },
    {
      "attachments": {},
      "cell_type": "markdown",
      "metadata": {
        "id": "lifS87EB-a8P"
      },
      "source": [
        "***Install both dependencies***"
      ]
    },
    {
      "cell_type": "code",
      "execution_count": null,
      "metadata": {
        "collapsed": true,
        "id": "dHjbgawI6xxz"
      },
      "outputs": [],
      "source": [
        "pip install segment-geospatial leafmap localtileserver"
      ]
    },
    {
      "cell_type": "code",
      "execution_count": null,
      "metadata": {
        "collapsed": true,
        "id": "hJS8JasjQmtm"
      },
      "outputs": [],
      "source": [
        "pip install pycrs"
      ]
    },
    {
      "attachments": {},
      "cell_type": "markdown",
      "metadata": {
        "id": "ik5FV4aC_Fjs"
      },
      "source": [
        "***Import libraries***"
      ]
    },
    {
      "cell_type": "code",
      "execution_count": null,
      "metadata": {
        "id": "qCJp3U9--h4c"
      },
      "outputs": [],
      "source": [
        "import os\n",
        "import leafmap\n",
        "import torch\n",
        "import cv2\n",
        "import geopandas as gpd\n",
        "from samgeo import SamGeo, SamGeoPredictor, tms_to_geotiff, get_basemaps\n",
        "from segment_anything import sam_model_registry\n",
        "from pathlib import Path"
      ]
    },
    {
      "attachments": {},
      "cell_type": "markdown",
      "metadata": {
        "id": "k_pcviIbAWI0"
      },
      "source": [
        "***Load image and shapefile from Drive***"
      ]
    },
    {
      "cell_type": "code",
      "execution_count": null,
      "metadata": {
        "id": "SqdJATntAZ1m"
      },
      "outputs": [],
      "source": [
        "# Read the image\n",
        "image = 'gdrive/My Drive/Colab Notebooks/Image/roi_image.tif' # Switch to your directory instead\n",
        "\n",
        "# Read the shapefile\n",
        "shapefile = 'gdrive/My Drive/Colab Notebooks/Shape/roi_bbox.shp' # Switch to your directory instead\n",
        "gdf = gpd.read_file(shapefile)\n",
        "\n",
        "# Extract bounding boxes from the shapefile\n",
        "clip_boxes = [list(geom.bounds) for geom in gdf.geometry]"
      ]
    },
    {
      "attachments": {},
      "cell_type": "markdown",
      "metadata": {
        "id": "PnuXRlPw-6Bx"
      },
      "source": [
        "***Create an interactive map***"
      ]
    },
    {
      "cell_type": "code",
      "execution_count": null,
      "metadata": {
        "id": "FvxdmqKQ-lGT"
      },
      "outputs": [],
      "source": [
        "zoom = 19\n",
        "style_bbox = {'color': '#FFFF00', 'weight': 1, 'fillColor': '#FFFF00', 'fillOpacity': 0.1,}\n",
        "style_segmented = {'color': '#a37aa9', 'weight': 1, 'fillColor': '#a37aa9', 'fillOpacity': 0.9,}\n",
        "\n",
        "m = leafmap.Map(center=[-22.17615, -51.253043], zoom=zoom)\n",
        "\n",
        "m.add_raster(image, layer_name='Image')\n",
        "m.add_vector(shapefile, layer_name='Vector', style=style_bbox)\n",
        "m"
      ]
    },
    {
      "attachments": {},
      "cell_type": "markdown",
      "metadata": {
        "id": "AxwZ6qnRAt6T"
      },
      "source": [
        "***Initialize SamGeoPredictor class***"
      ]
    },
    {
      "cell_type": "code",
      "execution_count": null,
      "metadata": {
        "id": "E0AAUJ1tAEtx"
      },
      "outputs": [],
      "source": [
        "# Load the model from Drive\n",
        "out_dir = os.path.join('gdrive/My Drive/Colab Notebooks/Model/') # Switch to your directory instead\n",
        "checkpoint = os.path.join(out_dir, 'sam_vit_h_4b8939.pth')"
      ]
    },
    {
      "cell_type": "code",
      "execution_count": null,
      "metadata": {
        "id": "c06Sdzv_A0XW"
      },
      "outputs": [],
      "source": [
        "img_arr = cv2.imread(image)\n",
        "model_type = \"vit_h\"\n",
        "sam = sam_model_registry[model_type](checkpoint=checkpoint)\n",
        "predictor = SamGeoPredictor(sam)\n",
        "predictor.set_image(img_arr)"
      ]
    },
    {
      "attachments": {},
      "cell_type": "markdown",
      "metadata": {
        "id": "vN2ecgzyBCcM"
      },
      "source": [
        "***Loop SAM through each polygon feature and load the results on the map***"
      ]
    },
    {
      "cell_type": "code",
      "execution_count": null,
      "metadata": {
        "id": "cxD3Y_urA9lK"
      },
      "outputs": [],
      "source": [
        "combined_gdf = gpd.GeoDataFrame()\n",
        "\n",
        "# Process each clip_box\n",
        "for i, clip_box in enumerate(clip_boxes):\n",
        "    masks, _, _ = predictor.predict(src_fp=image, geo_box=clip_box)\n",
        "\n",
        "    masks_img = f\"preds_{i}.tif\"\n",
        "    predictor.masks_to_geotiff(image, masks_img, masks.astype(\"uint8\"))\n",
        "\n",
        "    vector = f\"feats_{i}.geojson\"\n",
        "    temp_gdf = predictor.geotiff_to_geojson(masks_img, vector, bidx=1)\n",
        "    combined_gdf = combined_gdf.append(temp_gdf)\n",
        "    combined_gdf.set_geometry('geometry', inplace=True)\n",
        "\n",
        "    m.add_vector(vector, layer_name=f'Vector_{i}', style=style_segmented)"
      ]
    },
    {
      "attachments": {},
      "cell_type": "markdown",
      "metadata": {
        "id": "7eGevkgyFlfh"
      },
      "source": [
        "***Export the combined shapefile to Drive***"
      ]
    },
    {
      "cell_type": "code",
      "execution_count": null,
      "metadata": {
        "id": "at6O1tl5FlwS"
      },
      "outputs": [],
      "source": [
        "# Set the CRS for the combined GeoDataFrame (use the same CRS as your input shapefile)\n",
        "combined_gdf.crs = 'EPSG:4326'\n",
        "\n",
        "# Save the combined GeoDataFrame as a Shapefile\n",
        "output_shapefile = 'gdrive/My Drive/Colab Notebooks/Output/roi_segmented.shp' # Switch to your directory instead\n",
        "combined_gdf.to_file(output_shapefile)"
      ]
    }
  ],
  "metadata": {
    "accelerator": "GPU",
    "colab": {
      "authorship_tag": "ABX9TyM2O4rAc2GMBTIe3U9vTKY/",
      "gpuType": "T4",
      "include_colab_link": true,
      "provenance": []
    },
    "gpuClass": "standard",
    "kernelspec": {
      "display_name": "Python 3",
      "name": "python3"
    },
    "language_info": {
      "name": "python"
    }
  },
  "nbformat": 4,
  "nbformat_minor": 0
}
