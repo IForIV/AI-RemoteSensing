{
  "nbformat": 4,
  "nbformat_minor": 0,
  "metadata": {
    "colab": {
      "provenance": [],
      "gpuType": "T4",
      "authorship_tag": "ABX9TyOcA6ZuOx8HAb3lIB1XDQwl",
      "include_colab_link": true
    },
    "kernelspec": {
      "name": "python3",
      "display_name": "Python 3"
    },
    "language_info": {
      "name": "python"
    },
    "accelerator": "GPU",
    "gpuClass": "standard"
  },
  "cells": [
    {
      "cell_type": "markdown",
      "metadata": {
        "id": "view-in-github",
        "colab_type": "text"
      },
      "source": [
        "<a href=\"https://colab.research.google.com/github/LucasOsco/AI-RemoteSensing/blob/main/image_notebook/sam_bbox_v01.ipynb\" target=\"_parent\"><img src=\"https://colab.research.google.com/assets/colab-badge.svg\" alt=\"Open In Colab\"/></a>"
      ]
    },
    {
      "cell_type": "markdown",
      "source": [
        "Part of this code utilizes the `segment-geospatial` package, which is a Python package designed for segmenting geospatial data using the Segment Anything Model (SAM). This package was created by Professor Dr. Qiusheng Wu.\n",
        "\n",
        "The `segment-geospatial` package has been adapted from the `segment-anything-eo` repository, originally authored by Aliaksandr Hancharenka. The main goal of the `segment-geospatial` package is to simplify the process of applying SAM to geospatial data analysis, making it more accessible and requiring minimal coding effort.\n",
        "\n",
        "To use this package, it's available for download and installation via PyPI and conda-forge.\n",
        "\n",
        "For more information, details, and examples on how to use this package, you can visit Professor Wu's GitHub page at [https://github.com/opengeos/segment-geospatial](https://github.com/opengeos/segment-geospatial)."
      ],
      "metadata": {
        "id": "3ZuNfQaCUjlv"
      }
    },
    {
      "cell_type": "code",
      "execution_count": null,
      "metadata": {
        "id": "Cf3IX8obUhyZ"
      },
      "outputs": [],
      "source": [
        "# Install the necessary libraries\n",
        "!pip install pycrs segment-geospatial leafmap localtileserver"
      ]
    },
    {
      "cell_type": "code",
      "source": [
        "# Import required libraries\n",
        "import os\n",
        "import cv2\n",
        "import zipfile\n",
        "import leafmap\n",
        "import geopandas as gpd\n",
        "import numpy as np\n",
        "import rasterio\n",
        "import glob\n",
        "from rasterio.merge import merge\n",
        "from rasterio.features import shapes\n",
        "from shapely.geometry import shape\n",
        "from samgeo import SamGeo, SamGeoPredictor, tms_to_geotiff\n",
        "from segment_anything import sam_model_registry"
      ],
      "metadata": {
        "id": "Hn3KPcVHUqPX"
      },
      "execution_count": null,
      "outputs": []
    },
    {
      "cell_type": "code",
      "source": [
        "def read_shapefile(filepath):\n",
        "    \"\"\"\n",
        "    Reads a shapefile and extracts bounding boxes.\n",
        "\n",
        "    Parameters:\n",
        "        filepath (str): Path to the shapefile.\n",
        "\n",
        "    Returns:\n",
        "        List of bounding boxes.\n",
        "    \"\"\"\n",
        "    gdf = gpd.read_file(filepath)\n",
        "    return [list(geom.bounds) for geom in gdf.geometry]"
      ],
      "metadata": {
        "id": "vGFO7bSD_eqo"
      },
      "execution_count": null,
      "outputs": []
    },
    {
      "cell_type": "code",
      "source": [
        "def initialize_predictor(img_arr, checkpoint):\n",
        "    \"\"\"\n",
        "    Initializes SamGeoPredictor.\n",
        "\n",
        "    Parameters:\n",
        "        img_arr (np.array): Image array.\n",
        "        checkpoint (str): Path to the model checkpoint.\n",
        "\n",
        "    Returns:\n",
        "        An instance of SamGeoPredictor.\n",
        "    \"\"\"\n",
        "    model_type = \"vit_h\"\n",
        "    sam = sam_model_registry[model_type](checkpoint=checkpoint)\n",
        "    predictor = SamGeoPredictor(sam)\n",
        "    predictor.set_image(img_arr)\n",
        "\n",
        "    return predictor"
      ],
      "metadata": {
        "id": "aG3wYAbD_gmi"
      },
      "execution_count": null,
      "outputs": []
    },
    {
      "cell_type": "code",
      "source": [
        "def process_clip_boxes(image, clip_boxes, predictor):\n",
        "    \"\"\"\n",
        "    Processes each clip box, creates geojson files, and adds them to the map.\n",
        "\n",
        "    Parameters:\n",
        "        image (str): Image file path.\n",
        "        clip_boxes (list): List of bounding boxes.\n",
        "        predictor (SamGeoPredictor): An instance of SamGeoPredictor.\n",
        "\n",
        "    Returns:\n",
        "        None\n",
        "    \"\"\"\n",
        "    combined_gdf = gpd.GeoDataFrame()\n",
        "    src_files_to_mosaic = []\n",
        "\n",
        "    for i, clip_box in enumerate(clip_boxes):\n",
        "        masks, _, _ = predictor.predict(src_fp=image, geo_box=clip_box)\n",
        "        \n",
        "        # Ensure masks are binary\n",
        "        masks = (masks > 0).astype('uint8')\n",
        "\n",
        "        masks_img = f\"preds_{i}.tif\"\n",
        "        predictor.masks_to_geotiff(image, masks_img, masks)\n",
        "\n",
        "        src = rasterio.open(masks_img)\n",
        "        src_files_to_mosaic.append(src)\n",
        "\n",
        "        vector = f\"feats_{i}.geojson\"\n",
        "        temp_gdf = predictor.geotiff_to_geojson(masks_img, vector, bidx=1)\n",
        "        combined_gdf = combined_gdf.append(temp_gdf)\n",
        "        combined_gdf.set_geometry('geometry', inplace=True)\n",
        "\n",
        "    # Mosaic and write the mosaic raster to disk\n",
        "    mosaic, out_trans = merge(src_files_to_mosaic)\n",
        "    out_meta = src.meta.copy()\n",
        "\n",
        "    out_meta.update({\"driver\": \"GTiff\",\n",
        "                    \"dtype\": 'uint8',\n",
        "                    \"height\": mosaic.shape[1],\n",
        "                    \"width\": mosaic.shape[2],\n",
        "                    \"count\": 1,\n",
        "                    \"transform\": out_trans,\n",
        "                    \"crs\": src.crs})\n",
        "\n",
        "    with rasterio.open('mosaic_mask.tif', \"w\", **out_meta) as dest:\n",
        "        dest.write(mosaic[0], 1)\n",
        "\n",
        "    # Save polygons as separate features in a shapefile\n",
        "    combined_gdf['geometry'] = combined_gdf.geometry.buffer(0)\n",
        "    combined_gdf.to_file(\"separate_features.shp\")"
      ],
      "metadata": {
        "id": "24dU6-uy_jIi"
      },
      "execution_count": null,
      "outputs": []
    },
    {
      "cell_type": "code",
      "source": [
        "# Switch to your image and shapefile instead\n",
        "image = 'Image_Tree.tif'\n",
        "shapefile = 'ROI_Bbox.shp'\n",
        "\n",
        "# SDefine SAM's model and path\n",
        "out_dir = os.path.join(os.path.expanduser(\"~\"), \"Downloads\")\n",
        "checkpoint = os.path.join(out_dir, \"sam_vit_h_4b8939.pth\")\n",
        "\n",
        "sam = SamGeo(\n",
        "    model_type=\"vit_h\",\n",
        "    checkpoint=checkpoint,\n",
        "    sam_kwargs=None,\n",
        ")"
      ],
      "metadata": {
        "id": "bGIvZdpr_dwc"
      },
      "execution_count": null,
      "outputs": []
    },
    {
      "cell_type": "code",
      "source": [
        "# Read the image\n",
        "img_arr = cv2.imread(image)\n",
        "\n",
        "# Extract bounding boxes from the shapefile\n",
        "clip_boxes = read_shapefile(shapefile)\n",
        "\n",
        "# Initialize SamGeoPredictor\n",
        "predictor = initialize_predictor(img_arr, checkpoint)\n",
        "\n",
        "# Process each clip box and add vector to the map\n",
        "process_clip_boxes(image, clip_boxes, predictor)"
      ],
      "metadata": {
        "id": "oHIArW4KCq4u"
      },
      "execution_count": null,
      "outputs": []
    },
    {
      "cell_type": "code",
      "source": [
        "# Display the results\n",
        "mosaic = 'mosaic_mask.tif'\n",
        "features = 'separate_features.shp'\n",
        "style={'color': '#a37aa9',}\n",
        "\n",
        "m = leafmap.Map(center=shapefile)\n",
        "m.add_raster(mosaic, layer_name=\"Mask Mosaic\")\n",
        "m.add_vector(features, layer_name='Vector', opacity=0.5, style=style)\n",
        "m"
      ],
      "metadata": {
        "id": "fps-uzWDVU9P"
      },
      "execution_count": null,
      "outputs": []
    }
  ]
}